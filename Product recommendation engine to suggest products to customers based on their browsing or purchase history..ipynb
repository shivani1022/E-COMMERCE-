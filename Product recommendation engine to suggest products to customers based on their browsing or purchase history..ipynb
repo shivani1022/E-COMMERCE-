{
 "cells": [
  {
   "cell_type": "code",
   "execution_count": 1,
   "id": "05cf08ec",
   "metadata": {},
   "outputs": [],
   "source": [
    "import pandas as pd\n",
    "import numpy as np\n"
   ]
  },
  {
   "cell_type": "code",
   "execution_count": 2,
   "id": "aea4c8e0",
   "metadata": {},
   "outputs": [],
   "source": [
    "df=pd.read_csv('GroceryStoreDataSet.csv', header=None)"
   ]
  },
  {
   "cell_type": "code",
   "execution_count": 3,
   "id": "828a36a7",
   "metadata": {},
   "outputs": [
    {
     "data": {
      "text/html": [
       "<div>\n",
       "<style scoped>\n",
       "    .dataframe tbody tr th:only-of-type {\n",
       "        vertical-align: middle;\n",
       "    }\n",
       "\n",
       "    .dataframe tbody tr th {\n",
       "        vertical-align: top;\n",
       "    }\n",
       "\n",
       "    .dataframe thead th {\n",
       "        text-align: right;\n",
       "    }\n",
       "</style>\n",
       "<table border=\"1\" class=\"dataframe\">\n",
       "  <thead>\n",
       "    <tr style=\"text-align: right;\">\n",
       "      <th></th>\n",
       "      <th>0</th>\n",
       "      <th>1</th>\n",
       "      <th>2</th>\n",
       "      <th>3</th>\n",
       "    </tr>\n",
       "  </thead>\n",
       "  <tbody>\n",
       "    <tr>\n",
       "      <th>0</th>\n",
       "      <td>MILK</td>\n",
       "      <td>BREAD</td>\n",
       "      <td>BISCUIT</td>\n",
       "      <td>NaN</td>\n",
       "    </tr>\n",
       "    <tr>\n",
       "      <th>1</th>\n",
       "      <td>BREAD</td>\n",
       "      <td>MILK</td>\n",
       "      <td>BISCUIT</td>\n",
       "      <td>CORNFLAKES</td>\n",
       "    </tr>\n",
       "    <tr>\n",
       "      <th>2</th>\n",
       "      <td>BREAD</td>\n",
       "      <td>TEA</td>\n",
       "      <td>BOURNVITA</td>\n",
       "      <td>NaN</td>\n",
       "    </tr>\n",
       "    <tr>\n",
       "      <th>3</th>\n",
       "      <td>JAM</td>\n",
       "      <td>MAGGI</td>\n",
       "      <td>BREAD</td>\n",
       "      <td>MILK</td>\n",
       "    </tr>\n",
       "    <tr>\n",
       "      <th>4</th>\n",
       "      <td>MAGGI</td>\n",
       "      <td>TEA</td>\n",
       "      <td>BISCUIT</td>\n",
       "      <td>NaN</td>\n",
       "    </tr>\n",
       "    <tr>\n",
       "      <th>5</th>\n",
       "      <td>BREAD</td>\n",
       "      <td>TEA</td>\n",
       "      <td>BOURNVITA</td>\n",
       "      <td>NaN</td>\n",
       "    </tr>\n",
       "    <tr>\n",
       "      <th>6</th>\n",
       "      <td>MAGGI</td>\n",
       "      <td>TEA</td>\n",
       "      <td>CORNFLAKES</td>\n",
       "      <td>NaN</td>\n",
       "    </tr>\n",
       "    <tr>\n",
       "      <th>7</th>\n",
       "      <td>MAGGI</td>\n",
       "      <td>BREAD</td>\n",
       "      <td>TEA</td>\n",
       "      <td>BISCUIT</td>\n",
       "    </tr>\n",
       "    <tr>\n",
       "      <th>8</th>\n",
       "      <td>JAM</td>\n",
       "      <td>MAGGI</td>\n",
       "      <td>BREAD</td>\n",
       "      <td>TEA</td>\n",
       "    </tr>\n",
       "    <tr>\n",
       "      <th>9</th>\n",
       "      <td>BREAD</td>\n",
       "      <td>MILK</td>\n",
       "      <td>NaN</td>\n",
       "      <td>NaN</td>\n",
       "    </tr>\n",
       "    <tr>\n",
       "      <th>10</th>\n",
       "      <td>COFFEE</td>\n",
       "      <td>COCK</td>\n",
       "      <td>BISCUIT</td>\n",
       "      <td>CORNFLAKES</td>\n",
       "    </tr>\n",
       "    <tr>\n",
       "      <th>11</th>\n",
       "      <td>COFFEE</td>\n",
       "      <td>COCK</td>\n",
       "      <td>BISCUIT</td>\n",
       "      <td>CORNFLAKES</td>\n",
       "    </tr>\n",
       "    <tr>\n",
       "      <th>12</th>\n",
       "      <td>COFFEE</td>\n",
       "      <td>SUGER</td>\n",
       "      <td>BOURNVITA</td>\n",
       "      <td>NaN</td>\n",
       "    </tr>\n",
       "    <tr>\n",
       "      <th>13</th>\n",
       "      <td>BREAD</td>\n",
       "      <td>COFFEE</td>\n",
       "      <td>COCK</td>\n",
       "      <td>NaN</td>\n",
       "    </tr>\n",
       "    <tr>\n",
       "      <th>14</th>\n",
       "      <td>BREAD</td>\n",
       "      <td>SUGER</td>\n",
       "      <td>BISCUIT</td>\n",
       "      <td>NaN</td>\n",
       "    </tr>\n",
       "    <tr>\n",
       "      <th>15</th>\n",
       "      <td>COFFEE</td>\n",
       "      <td>SUGER</td>\n",
       "      <td>CORNFLAKES</td>\n",
       "      <td>NaN</td>\n",
       "    </tr>\n",
       "    <tr>\n",
       "      <th>16</th>\n",
       "      <td>BREAD</td>\n",
       "      <td>SUGER</td>\n",
       "      <td>BOURNVITA</td>\n",
       "      <td>NaN</td>\n",
       "    </tr>\n",
       "    <tr>\n",
       "      <th>17</th>\n",
       "      <td>BREAD</td>\n",
       "      <td>COFFEE</td>\n",
       "      <td>SUGER</td>\n",
       "      <td>NaN</td>\n",
       "    </tr>\n",
       "    <tr>\n",
       "      <th>18</th>\n",
       "      <td>BREAD</td>\n",
       "      <td>COFFEE</td>\n",
       "      <td>SUGER</td>\n",
       "      <td>NaN</td>\n",
       "    </tr>\n",
       "    <tr>\n",
       "      <th>19</th>\n",
       "      <td>TEA</td>\n",
       "      <td>MILK</td>\n",
       "      <td>COFFEE</td>\n",
       "      <td>CORNFLAKES</td>\n",
       "    </tr>\n",
       "  </tbody>\n",
       "</table>\n",
       "</div>"
      ],
      "text/plain": [
       "         0       1           2           3\n",
       "0     MILK   BREAD     BISCUIT         NaN\n",
       "1    BREAD    MILK     BISCUIT  CORNFLAKES\n",
       "2    BREAD     TEA   BOURNVITA         NaN\n",
       "3      JAM   MAGGI       BREAD        MILK\n",
       "4    MAGGI     TEA     BISCUIT         NaN\n",
       "5    BREAD     TEA   BOURNVITA         NaN\n",
       "6    MAGGI     TEA  CORNFLAKES         NaN\n",
       "7    MAGGI   BREAD         TEA     BISCUIT\n",
       "8      JAM   MAGGI       BREAD         TEA\n",
       "9    BREAD    MILK         NaN         NaN\n",
       "10  COFFEE    COCK     BISCUIT  CORNFLAKES\n",
       "11  COFFEE    COCK     BISCUIT  CORNFLAKES\n",
       "12  COFFEE   SUGER   BOURNVITA         NaN\n",
       "13   BREAD  COFFEE        COCK         NaN\n",
       "14   BREAD   SUGER     BISCUIT         NaN\n",
       "15  COFFEE   SUGER  CORNFLAKES         NaN\n",
       "16   BREAD   SUGER   BOURNVITA         NaN\n",
       "17   BREAD  COFFEE       SUGER         NaN\n",
       "18   BREAD  COFFEE       SUGER         NaN\n",
       "19     TEA    MILK      COFFEE  CORNFLAKES"
      ]
     },
     "execution_count": 3,
     "metadata": {},
     "output_type": "execute_result"
    }
   ],
   "source": [
    "df"
   ]
  },
  {
   "cell_type": "code",
   "execution_count": 4,
   "id": "05b86c20",
   "metadata": {},
   "outputs": [
    {
     "data": {
      "text/plain": [
       "Int64Index([0, 1, 2, 3], dtype='int64')"
      ]
     },
     "execution_count": 4,
     "metadata": {},
     "output_type": "execute_result"
    }
   ],
   "source": [
    "df.columns"
   ]
  },
  {
   "cell_type": "code",
   "execution_count": 5,
   "id": "8fb0a836",
   "metadata": {},
   "outputs": [
    {
     "data": {
      "text/plain": [
       "array([['MILK', 'BREAD', 'BISCUIT', nan],\n",
       "       ['BREAD', 'MILK', 'BISCUIT', 'CORNFLAKES'],\n",
       "       ['BREAD', 'TEA', 'BOURNVITA', nan],\n",
       "       ['JAM', 'MAGGI', 'BREAD', 'MILK'],\n",
       "       ['MAGGI', 'TEA', 'BISCUIT', nan],\n",
       "       ['BREAD', 'TEA', 'BOURNVITA', nan],\n",
       "       ['MAGGI', 'TEA', 'CORNFLAKES', nan],\n",
       "       ['MAGGI', 'BREAD', 'TEA', 'BISCUIT'],\n",
       "       ['JAM', 'MAGGI', 'BREAD', 'TEA'],\n",
       "       ['BREAD', 'MILK', nan, nan],\n",
       "       ['COFFEE', 'COCK', 'BISCUIT', 'CORNFLAKES'],\n",
       "       ['COFFEE', 'COCK', 'BISCUIT', 'CORNFLAKES'],\n",
       "       ['COFFEE', 'SUGER', 'BOURNVITA', nan],\n",
       "       ['BREAD', 'COFFEE', 'COCK', nan],\n",
       "       ['BREAD', 'SUGER', 'BISCUIT', nan],\n",
       "       ['COFFEE', 'SUGER', 'CORNFLAKES', nan],\n",
       "       ['BREAD', 'SUGER', 'BOURNVITA', nan],\n",
       "       ['BREAD', 'COFFEE', 'SUGER', nan],\n",
       "       ['BREAD', 'COFFEE', 'SUGER', nan],\n",
       "       ['TEA', 'MILK', 'COFFEE', 'CORNFLAKES']], dtype=object)"
      ]
     },
     "execution_count": 5,
     "metadata": {},
     "output_type": "execute_result"
    }
   ],
   "source": [
    "df.values"
   ]
  },
  {
   "cell_type": "code",
   "execution_count": 6,
   "id": "0542ee94",
   "metadata": {},
   "outputs": [
    {
     "data": {
      "text/plain": [
       "0     0\n",
       "1     0\n",
       "2     1\n",
       "3    13\n",
       "dtype: int64"
      ]
     },
     "execution_count": 6,
     "metadata": {},
     "output_type": "execute_result"
    }
   ],
   "source": [
    "df.isnull().sum()"
   ]
  },
  {
   "cell_type": "code",
   "execution_count": 7,
   "id": "7ae02bc9",
   "metadata": {},
   "outputs": [
    {
     "data": {
      "text/plain": [
       "[['MILK', 'BREAD', 'BISCUIT', nan],\n",
       " ['BREAD', 'MILK', 'BISCUIT', 'CORNFLAKES'],\n",
       " ['BREAD', 'TEA', 'BOURNVITA', nan],\n",
       " ['JAM', 'MAGGI', 'BREAD', 'MILK'],\n",
       " ['MAGGI', 'TEA', 'BISCUIT', nan],\n",
       " ['BREAD', 'TEA', 'BOURNVITA', nan],\n",
       " ['MAGGI', 'TEA', 'CORNFLAKES', nan],\n",
       " ['MAGGI', 'BREAD', 'TEA', 'BISCUIT'],\n",
       " ['JAM', 'MAGGI', 'BREAD', 'TEA'],\n",
       " ['BREAD', 'MILK', nan, nan],\n",
       " ['COFFEE', 'COCK', 'BISCUIT', 'CORNFLAKES'],\n",
       " ['COFFEE', 'COCK', 'BISCUIT', 'CORNFLAKES'],\n",
       " ['COFFEE', 'SUGER', 'BOURNVITA', nan],\n",
       " ['BREAD', 'COFFEE', 'COCK', nan],\n",
       " ['BREAD', 'SUGER', 'BISCUIT', nan],\n",
       " ['COFFEE', 'SUGER', 'CORNFLAKES', nan],\n",
       " ['BREAD', 'SUGER', 'BOURNVITA', nan],\n",
       " ['BREAD', 'COFFEE', 'SUGER', nan],\n",
       " ['BREAD', 'COFFEE', 'SUGER', nan],\n",
       " ['TEA', 'MILK', 'COFFEE', 'CORNFLAKES']]"
      ]
     },
     "execution_count": 7,
     "metadata": {},
     "output_type": "execute_result"
    }
   ],
   "source": [
    "df.values.tolist()"
   ]
  },
  {
   "cell_type": "code",
   "execution_count": 8,
   "id": "0c8cd45d",
   "metadata": {},
   "outputs": [],
   "source": [
    "T = []\n",
    "for i in range(len(df)):\n",
    "    T.append([str(df.values[i,j])  for j in range(0,4) if str(df.values[i,j])!='nan'])\n"
   ]
  },
  {
   "cell_type": "code",
   "execution_count": 9,
   "id": "662ab295",
   "metadata": {},
   "outputs": [
    {
     "data": {
      "text/plain": [
       "[['MILK', 'BREAD', 'BISCUIT'],\n",
       " ['BREAD', 'MILK', 'BISCUIT', 'CORNFLAKES'],\n",
       " ['BREAD', 'TEA', 'BOURNVITA'],\n",
       " ['JAM', 'MAGGI', 'BREAD', 'MILK'],\n",
       " ['MAGGI', 'TEA', 'BISCUIT'],\n",
       " ['BREAD', 'TEA', 'BOURNVITA'],\n",
       " ['MAGGI', 'TEA', 'CORNFLAKES'],\n",
       " ['MAGGI', 'BREAD', 'TEA', 'BISCUIT'],\n",
       " ['JAM', 'MAGGI', 'BREAD', 'TEA'],\n",
       " ['BREAD', 'MILK'],\n",
       " ['COFFEE', 'COCK', 'BISCUIT', 'CORNFLAKES'],\n",
       " ['COFFEE', 'COCK', 'BISCUIT', 'CORNFLAKES'],\n",
       " ['COFFEE', 'SUGER', 'BOURNVITA'],\n",
       " ['BREAD', 'COFFEE', 'COCK'],\n",
       " ['BREAD', 'SUGER', 'BISCUIT'],\n",
       " ['COFFEE', 'SUGER', 'CORNFLAKES'],\n",
       " ['BREAD', 'SUGER', 'BOURNVITA'],\n",
       " ['BREAD', 'COFFEE', 'SUGER'],\n",
       " ['BREAD', 'COFFEE', 'SUGER'],\n",
       " ['TEA', 'MILK', 'COFFEE', 'CORNFLAKES']]"
      ]
     },
     "execution_count": 9,
     "metadata": {},
     "output_type": "execute_result"
    }
   ],
   "source": [
    "T"
   ]
  },
  {
   "cell_type": "code",
   "execution_count": 10,
   "id": "7031cda5",
   "metadata": {},
   "outputs": [
    {
     "name": "stdout",
     "output_type": "stream",
     "text": [
      "Defaulting to user installation because normal site-packages is not writeable\n",
      "Requirement already satisfied: apyori in c:\\users\\shivtej\\appdata\\roaming\\python\\python39\\site-packages (1.1.2)\n",
      "Note: you may need to restart the kernel to use updated packages.\n"
     ]
    }
   ],
   "source": [
    "pip install apyori"
   ]
  },
  {
   "cell_type": "code",
   "execution_count": 40,
   "id": "09a75a70",
   "metadata": {},
   "outputs": [],
   "source": [
    "from apyori import apriori\n",
    "rule= apriori(T,min_support=0.10,min_confidence=0.35,min_lift=1.1,min_length=2)\n"
   ]
  },
  {
   "cell_type": "code",
   "execution_count": 41,
   "id": "b170a483",
   "metadata": {},
   "outputs": [
    {
     "data": {
      "text/plain": [
       "[RelationRecord(items=frozenset({'BISCUIT', 'COCK'}), support=0.1, ordered_statistics=[OrderedStatistic(items_base=frozenset({'COCK'}), items_add=frozenset({'BISCUIT'}), confidence=0.6666666666666667, lift=1.904761904761905)]),\n",
       " RelationRecord(items=frozenset({'BISCUIT', 'CORNFLAKES'}), support=0.15, ordered_statistics=[OrderedStatistic(items_base=frozenset({'BISCUIT'}), items_add=frozenset({'CORNFLAKES'}), confidence=0.4285714285714286, lift=1.4285714285714288), OrderedStatistic(items_base=frozenset({'CORNFLAKES'}), items_add=frozenset({'BISCUIT'}), confidence=0.5, lift=1.4285714285714286)]),\n",
       " RelationRecord(items=frozenset({'MAGGI', 'BISCUIT'}), support=0.1, ordered_statistics=[OrderedStatistic(items_base=frozenset({'MAGGI'}), items_add=frozenset({'BISCUIT'}), confidence=0.4, lift=1.142857142857143)]),\n",
       " RelationRecord(items=frozenset({'BISCUIT', 'MILK'}), support=0.1, ordered_statistics=[OrderedStatistic(items_base=frozenset({'MILK'}), items_add=frozenset({'BISCUIT'}), confidence=0.4, lift=1.142857142857143)]),\n",
       " RelationRecord(items=frozenset({'BOURNVITA', 'BREAD'}), support=0.15, ordered_statistics=[OrderedStatistic(items_base=frozenset({'BOURNVITA'}), items_add=frozenset({'BREAD'}), confidence=0.7499999999999999, lift=1.1538461538461537)]),\n",
       " RelationRecord(items=frozenset({'BOURNVITA', 'SUGER'}), support=0.1, ordered_statistics=[OrderedStatistic(items_base=frozenset({'BOURNVITA'}), items_add=frozenset({'SUGER'}), confidence=0.5, lift=1.6666666666666667)]),\n",
       " RelationRecord(items=frozenset({'BOURNVITA', 'TEA'}), support=0.1, ordered_statistics=[OrderedStatistic(items_base=frozenset({'BOURNVITA'}), items_add=frozenset({'TEA'}), confidence=0.5, lift=1.4285714285714286)]),\n",
       " RelationRecord(items=frozenset({'BREAD', 'JAM'}), support=0.1, ordered_statistics=[OrderedStatistic(items_base=frozenset({'JAM'}), items_add=frozenset({'BREAD'}), confidence=1.0, lift=1.5384615384615383)]),\n",
       " RelationRecord(items=frozenset({'BREAD', 'MILK'}), support=0.2, ordered_statistics=[OrderedStatistic(items_base=frozenset({'MILK'}), items_add=frozenset({'BREAD'}), confidence=0.8, lift=1.2307692307692308)]),\n",
       " RelationRecord(items=frozenset({'COFFEE', 'COCK'}), support=0.15, ordered_statistics=[OrderedStatistic(items_base=frozenset({'COCK'}), items_add=frozenset({'COFFEE'}), confidence=1.0, lift=2.5), OrderedStatistic(items_base=frozenset({'COFFEE'}), items_add=frozenset({'COCK'}), confidence=0.37499999999999994, lift=2.4999999999999996)]),\n",
       " RelationRecord(items=frozenset({'COCK', 'CORNFLAKES'}), support=0.1, ordered_statistics=[OrderedStatistic(items_base=frozenset({'COCK'}), items_add=frozenset({'CORNFLAKES'}), confidence=0.6666666666666667, lift=2.2222222222222228)]),\n",
       " RelationRecord(items=frozenset({'COFFEE', 'CORNFLAKES'}), support=0.2, ordered_statistics=[OrderedStatistic(items_base=frozenset({'COFFEE'}), items_add=frozenset({'CORNFLAKES'}), confidence=0.5, lift=1.6666666666666667), OrderedStatistic(items_base=frozenset({'CORNFLAKES'}), items_add=frozenset({'COFFEE'}), confidence=0.6666666666666667, lift=1.6666666666666667)]),\n",
       " RelationRecord(items=frozenset({'COFFEE', 'SUGER'}), support=0.2, ordered_statistics=[OrderedStatistic(items_base=frozenset({'COFFEE'}), items_add=frozenset({'SUGER'}), confidence=0.5, lift=1.6666666666666667), OrderedStatistic(items_base=frozenset({'SUGER'}), items_add=frozenset({'COFFEE'}), confidence=0.6666666666666667, lift=1.6666666666666667)]),\n",
       " RelationRecord(items=frozenset({'CORNFLAKES', 'MILK'}), support=0.1, ordered_statistics=[OrderedStatistic(items_base=frozenset({'MILK'}), items_add=frozenset({'CORNFLAKES'}), confidence=0.4, lift=1.3333333333333335)]),\n",
       " RelationRecord(items=frozenset({'MAGGI', 'JAM'}), support=0.1, ordered_statistics=[OrderedStatistic(items_base=frozenset({'JAM'}), items_add=frozenset({'MAGGI'}), confidence=1.0, lift=4.0), OrderedStatistic(items_base=frozenset({'MAGGI'}), items_add=frozenset({'JAM'}), confidence=0.4, lift=4.0)]),\n",
       " RelationRecord(items=frozenset({'MAGGI', 'TEA'}), support=0.2, ordered_statistics=[OrderedStatistic(items_base=frozenset({'MAGGI'}), items_add=frozenset({'TEA'}), confidence=0.8, lift=2.285714285714286), OrderedStatistic(items_base=frozenset({'TEA'}), items_add=frozenset({'MAGGI'}), confidence=0.5714285714285715, lift=2.285714285714286)]),\n",
       " RelationRecord(items=frozenset({'BREAD', 'BISCUIT', 'MILK'}), support=0.1, ordered_statistics=[OrderedStatistic(items_base=frozenset({'MILK'}), items_add=frozenset({'BREAD', 'BISCUIT'}), confidence=0.4, lift=2.0), OrderedStatistic(items_base=frozenset({'BREAD', 'BISCUIT'}), items_add=frozenset({'MILK'}), confidence=0.5, lift=2.0), OrderedStatistic(items_base=frozenset({'BISCUIT', 'MILK'}), items_add=frozenset({'BREAD'}), confidence=1.0, lift=1.5384615384615383), OrderedStatistic(items_base=frozenset({'BREAD', 'MILK'}), items_add=frozenset({'BISCUIT'}), confidence=0.5, lift=1.4285714285714286)]),\n",
       " RelationRecord(items=frozenset({'COFFEE', 'BISCUIT', 'COCK'}), support=0.1, ordered_statistics=[OrderedStatistic(items_base=frozenset({'COCK'}), items_add=frozenset({'COFFEE', 'BISCUIT'}), confidence=0.6666666666666667, lift=6.666666666666667), OrderedStatistic(items_base=frozenset({'BISCUIT', 'COCK'}), items_add=frozenset({'COFFEE'}), confidence=1.0, lift=2.5), OrderedStatistic(items_base=frozenset({'COFFEE', 'BISCUIT'}), items_add=frozenset({'COCK'}), confidence=1.0, lift=6.666666666666667), OrderedStatistic(items_base=frozenset({'COFFEE', 'COCK'}), items_add=frozenset({'BISCUIT'}), confidence=0.6666666666666667, lift=1.904761904761905)]),\n",
       " RelationRecord(items=frozenset({'BISCUIT', 'COCK', 'CORNFLAKES'}), support=0.1, ordered_statistics=[OrderedStatistic(items_base=frozenset({'COCK'}), items_add=frozenset({'BISCUIT', 'CORNFLAKES'}), confidence=0.6666666666666667, lift=4.4444444444444455), OrderedStatistic(items_base=frozenset({'BISCUIT', 'COCK'}), items_add=frozenset({'CORNFLAKES'}), confidence=1.0, lift=3.3333333333333335), OrderedStatistic(items_base=frozenset({'BISCUIT', 'CORNFLAKES'}), items_add=frozenset({'COCK'}), confidence=0.6666666666666667, lift=4.4444444444444455), OrderedStatistic(items_base=frozenset({'COCK', 'CORNFLAKES'}), items_add=frozenset({'BISCUIT'}), confidence=1.0, lift=2.857142857142857)]),\n",
       " RelationRecord(items=frozenset({'COFFEE', 'BISCUIT', 'CORNFLAKES'}), support=0.1, ordered_statistics=[OrderedStatistic(items_base=frozenset({'COFFEE', 'BISCUIT'}), items_add=frozenset({'CORNFLAKES'}), confidence=1.0, lift=3.3333333333333335), OrderedStatistic(items_base=frozenset({'BISCUIT', 'CORNFLAKES'}), items_add=frozenset({'COFFEE'}), confidence=0.6666666666666667, lift=1.6666666666666667), OrderedStatistic(items_base=frozenset({'COFFEE', 'CORNFLAKES'}), items_add=frozenset({'BISCUIT'}), confidence=0.5, lift=1.4285714285714286)]),\n",
       " RelationRecord(items=frozenset({'MAGGI', 'BISCUIT', 'TEA'}), support=0.1, ordered_statistics=[OrderedStatistic(items_base=frozenset({'MAGGI'}), items_add=frozenset({'TEA', 'BISCUIT'}), confidence=0.4, lift=4.0), OrderedStatistic(items_base=frozenset({'MAGGI', 'BISCUIT'}), items_add=frozenset({'TEA'}), confidence=1.0, lift=2.857142857142857), OrderedStatistic(items_base=frozenset({'TEA', 'BISCUIT'}), items_add=frozenset({'MAGGI'}), confidence=1.0, lift=4.0), OrderedStatistic(items_base=frozenset({'MAGGI', 'TEA'}), items_add=frozenset({'BISCUIT'}), confidence=0.5, lift=1.4285714285714286)]),\n",
       " RelationRecord(items=frozenset({'BOURNVITA', 'BREAD', 'TEA'}), support=0.1, ordered_statistics=[OrderedStatistic(items_base=frozenset({'BOURNVITA'}), items_add=frozenset({'BREAD', 'TEA'}), confidence=0.5, lift=2.5), OrderedStatistic(items_base=frozenset({'BOURNVITA', 'BREAD'}), items_add=frozenset({'TEA'}), confidence=0.6666666666666667, lift=1.904761904761905), OrderedStatistic(items_base=frozenset({'BOURNVITA', 'TEA'}), items_add=frozenset({'BREAD'}), confidence=1.0, lift=1.5384615384615383), OrderedStatistic(items_base=frozenset({'BREAD', 'TEA'}), items_add=frozenset({'BOURNVITA'}), confidence=0.5, lift=2.5)]),\n",
       " RelationRecord(items=frozenset({'COFFEE', 'BREAD', 'SUGER'}), support=0.1, ordered_statistics=[OrderedStatistic(items_base=frozenset({'COFFEE', 'BREAD'}), items_add=frozenset({'SUGER'}), confidence=0.6666666666666667, lift=2.2222222222222228), OrderedStatistic(items_base=frozenset({'SUGER', 'BREAD'}), items_add=frozenset({'COFFEE'}), confidence=0.5, lift=1.25)]),\n",
       " RelationRecord(items=frozenset({'BREAD', 'MAGGI', 'JAM'}), support=0.1, ordered_statistics=[OrderedStatistic(items_base=frozenset({'JAM'}), items_add=frozenset({'BREAD', 'MAGGI'}), confidence=1.0, lift=6.666666666666667), OrderedStatistic(items_base=frozenset({'MAGGI'}), items_add=frozenset({'BREAD', 'JAM'}), confidence=0.4, lift=4.0), OrderedStatistic(items_base=frozenset({'BREAD', 'JAM'}), items_add=frozenset({'MAGGI'}), confidence=1.0, lift=4.0), OrderedStatistic(items_base=frozenset({'BREAD', 'MAGGI'}), items_add=frozenset({'JAM'}), confidence=0.6666666666666667, lift=6.666666666666667), OrderedStatistic(items_base=frozenset({'MAGGI', 'JAM'}), items_add=frozenset({'BREAD'}), confidence=1.0, lift=1.5384615384615383)]),\n",
       " RelationRecord(items=frozenset({'BREAD', 'TEA', 'MAGGI'}), support=0.1, ordered_statistics=[OrderedStatistic(items_base=frozenset({'MAGGI'}), items_add=frozenset({'BREAD', 'TEA'}), confidence=0.4, lift=2.0), OrderedStatistic(items_base=frozenset({'BREAD', 'MAGGI'}), items_add=frozenset({'TEA'}), confidence=0.6666666666666667, lift=1.904761904761905), OrderedStatistic(items_base=frozenset({'BREAD', 'TEA'}), items_add=frozenset({'MAGGI'}), confidence=0.5, lift=2.0)]),\n",
       " RelationRecord(items=frozenset({'COFFEE', 'COCK', 'CORNFLAKES'}), support=0.1, ordered_statistics=[OrderedStatistic(items_base=frozenset({'COCK'}), items_add=frozenset({'COFFEE', 'CORNFLAKES'}), confidence=0.6666666666666667, lift=3.3333333333333335), OrderedStatistic(items_base=frozenset({'COFFEE', 'COCK'}), items_add=frozenset({'CORNFLAKES'}), confidence=0.6666666666666667, lift=2.2222222222222228), OrderedStatistic(items_base=frozenset({'COCK', 'CORNFLAKES'}), items_add=frozenset({'COFFEE'}), confidence=1.0, lift=2.5), OrderedStatistic(items_base=frozenset({'COFFEE', 'CORNFLAKES'}), items_add=frozenset({'COCK'}), confidence=0.5, lift=3.3333333333333335)]),\n",
       " RelationRecord(items=frozenset({'COFFEE', 'BISCUIT', 'COCK', 'CORNFLAKES'}), support=0.1, ordered_statistics=[OrderedStatistic(items_base=frozenset({'COCK'}), items_add=frozenset({'COFFEE', 'BISCUIT', 'CORNFLAKES'}), confidence=0.6666666666666667, lift=6.666666666666667), OrderedStatistic(items_base=frozenset({'BISCUIT', 'COCK'}), items_add=frozenset({'COFFEE', 'CORNFLAKES'}), confidence=1.0, lift=5.0), OrderedStatistic(items_base=frozenset({'COFFEE', 'BISCUIT'}), items_add=frozenset({'COCK', 'CORNFLAKES'}), confidence=1.0, lift=10.0), OrderedStatistic(items_base=frozenset({'BISCUIT', 'CORNFLAKES'}), items_add=frozenset({'COFFEE', 'COCK'}), confidence=0.6666666666666667, lift=4.4444444444444455), OrderedStatistic(items_base=frozenset({'COFFEE', 'COCK'}), items_add=frozenset({'BISCUIT', 'CORNFLAKES'}), confidence=0.6666666666666667, lift=4.4444444444444455), OrderedStatistic(items_base=frozenset({'COCK', 'CORNFLAKES'}), items_add=frozenset({'COFFEE', 'BISCUIT'}), confidence=1.0, lift=10.0), OrderedStatistic(items_base=frozenset({'COFFEE', 'CORNFLAKES'}), items_add=frozenset({'BISCUIT', 'COCK'}), confidence=0.5, lift=5.0), OrderedStatistic(items_base=frozenset({'COFFEE', 'BISCUIT', 'COCK'}), items_add=frozenset({'CORNFLAKES'}), confidence=1.0, lift=3.3333333333333335), OrderedStatistic(items_base=frozenset({'BISCUIT', 'COCK', 'CORNFLAKES'}), items_add=frozenset({'COFFEE'}), confidence=1.0, lift=2.5), OrderedStatistic(items_base=frozenset({'COFFEE', 'BISCUIT', 'CORNFLAKES'}), items_add=frozenset({'COCK'}), confidence=1.0, lift=6.666666666666667), OrderedStatistic(items_base=frozenset({'COFFEE', 'COCK', 'CORNFLAKES'}), items_add=frozenset({'BISCUIT'}), confidence=1.0, lift=2.857142857142857)])]"
      ]
     },
     "execution_count": 41,
     "metadata": {},
     "output_type": "execute_result"
    }
   ],
   "source": [
    "list(rule)"
   ]
  },
  {
   "cell_type": "code",
   "execution_count": null,
   "id": "25669f0b",
   "metadata": {},
   "outputs": [],
   "source": []
  },
  {
   "cell_type": "code",
   "execution_count": null,
   "id": "73788165",
   "metadata": {},
   "outputs": [],
   "source": []
  }
 ],
 "metadata": {
  "kernelspec": {
   "display_name": "Python 3 (ipykernel)",
   "language": "python",
   "name": "python3"
  },
  "language_info": {
   "codemirror_mode": {
    "name": "ipython",
    "version": 3
   },
   "file_extension": ".py",
   "mimetype": "text/x-python",
   "name": "python",
   "nbconvert_exporter": "python",
   "pygments_lexer": "ipython3",
   "version": "3.9.12"
  }
 },
 "nbformat": 4,
 "nbformat_minor": 5
}
